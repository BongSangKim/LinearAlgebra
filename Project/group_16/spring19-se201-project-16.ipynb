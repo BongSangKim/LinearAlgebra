{
 "cells": [
  {
   "cell_type": "code",
   "execution_count": 6,
   "metadata": {},
   "outputs": [
    {
     "data": {
      "text/plain": [
       "(72536457, 103560000)"
      ]
     },
     "execution_count": 6,
     "metadata": {},
     "output_type": "execute_result"
    }
   ],
   "source": [
    "import gensim \n",
    "\n",
    "dante = []\n",
    "with open(\"1.txt\", encoding='utf-8') as file:\n",
    "    for j, line in enumerate(file):\n",
    "        dante.append(gensim.utils.simple_preprocess(line))\n",
    "\n",
    "dante_model = gensim.models.Word2Vec (dante, size=10, window=10, min_count=2, workers=4)\n",
    "dante_model.train(dante, total_examples=len(dante), epochs=1000)"
   ]
  },
  {
   "cell_type": "code",
   "execution_count": 9,
   "metadata": {},
   "outputs": [
    {
     "data": {
      "text/plain": [
       "[('upper', 0.9572715163230896),\n",
       " ('population', 0.930935263633728),\n",
       " ('normal', 0.8933163285255432),\n",
       " ('men', 0.8899509906768799),\n",
       " ('lack', 0.8889979124069214),\n",
       " ('devalue', 0.8793522715568542),\n",
       " ('example', 0.8740497827529907),\n",
       " ('play', 0.8729762434959412),\n",
       " ('communal', 0.8729492425918579),\n",
       " ('followers', 0.8711497783660889),\n",
       " ('appearance', 0.8690805435180664),\n",
       " ('recognizing', 0.868521511554718),\n",
       " ('lives', 0.8680972456932068),\n",
       " ('maintaining', 0.8582181930541992),\n",
       " ('superiority', 0.8574624061584473),\n",
       " ('characteristics', 0.8499851226806641),\n",
       " ('humanity', 0.8428803086280823),\n",
       " ('sphere', 0.8424599170684814),\n",
       " ('pay', 0.8415233492851257),\n",
       " ('conditioning', 0.8356204032897949)]"
      ]
     },
     "execution_count": 9,
     "metadata": {},
     "output_type": "execute_result"
    }
   ],
   "source": [
    "dante_model.wv.most_similar(positive=['roles'], topn=20)"
   ]
  },
  {
   "cell_type": "code",
   "execution_count": null,
   "metadata": {},
   "outputs": [],
   "source": []
  }
 ],
 "metadata": {
  "kernelspec": {
   "display_name": "Python 3",
   "language": "python",
   "name": "python3"
  },
  "language_info": {
   "codemirror_mode": {
    "name": "ipython",
    "version": 3
   },
   "file_extension": ".py",
   "mimetype": "text/x-python",
   "name": "python",
   "nbconvert_exporter": "python",
   "pygments_lexer": "ipython3",
   "version": "3.7.1"
  }
 },
 "nbformat": 4,
 "nbformat_minor": 2
}
