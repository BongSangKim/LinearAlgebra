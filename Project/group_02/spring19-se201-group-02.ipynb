{
 "cells": [
  {
   "cell_type": "markdown",
   "metadata": {},
   "source": [
    "## Project 2"
   ]
  },
  {
   "cell_type": "code",
   "execution_count": 21,
   "metadata": {},
   "outputs": [
    {
     "data": {
      "text/plain": [
       "(224679, 308100)"
      ]
     },
     "execution_count": 21,
     "metadata": {},
     "output_type": "execute_result"
    }
   ],
   "source": [
    "from gensim.models import Word2Vec\n",
    "import gensim.utils\n",
    "\n",
    "text = []\n",
    "for ind in range(2):\n",
    "    indstr = str(ind)\n",
    "    filename = \"ob_\" + str(indstr.zfill(2)) + \".txt\"\n",
    "    with open(filename) as file:\n",
    "        line = file.readline()\n",
    "        while line:\n",
    "            text.append(gensim.utils.simple_preprocess(line))\n",
    "            line = file.readline()\n",
    "\n",
    "ob = Word2Vec(text, size=10, window=5, min_count=1, workers=4)\n",
    "ob.train(text, total_examples=len(text), epochs=100)"
   ]
  },
  {
   "cell_type": "code",
   "execution_count": 22,
   "metadata": {},
   "outputs": [
    {
     "name": "stdout",
     "output_type": "stream",
     "text": [
      "[ 0.5137342   0.6598243  -2.5572336  -0.37080902  2.2349133  -0.35990852\n",
      "  0.30606326  1.2491828   1.7751232  -0.7272541 ]\n"
     ]
    }
   ],
   "source": [
    "print(ob.wv['war'])"
   ]
  },
  {
   "cell_type": "code",
   "execution_count": 23,
   "metadata": {},
   "outputs": [
    {
     "data": {
      "text/plain": [
       "[('counties', 0.9390755891799927),\n",
       " ('expect', 0.9264619946479797),\n",
       " ('wrong', 0.9243521690368652),\n",
       " ('parks', 0.9213158488273621),\n",
       " ('collar', 0.9179496765136719),\n",
       " ('into', 0.9161678552627563),\n",
       " ('government', 0.9031386971473694),\n",
       " ('agents', 0.891487181186676),\n",
       " ('pledging', 0.8849846124649048),\n",
       " ('dissent', 0.8846445679664612)]"
      ]
     },
     "execution_count": 23,
     "metadata": {},
     "output_type": "execute_result"
    }
   ],
   "source": [
    "ob.wv.most_similar(positive='people')"
   ]
  },
  {
   "cell_type": "code",
   "execution_count": 24,
   "metadata": {},
   "outputs": [
    {
     "data": {
      "text/plain": [
       "(345428, 465100)"
      ]
     },
     "execution_count": 24,
     "metadata": {},
     "output_type": "execute_result"
    }
   ],
   "source": [
    "from gensim.models import Word2Vec\n",
    "import gensim.utils\n",
    "\n",
    "text = []\n",
    "for ind in range(2):\n",
    "    indstr = str(ind)\n",
    "    filename = \"dt_\" + str(indstr.zfill(2)) + \".txt\"\n",
    "    with open(filename) as file:\n",
    "        line = file.readline()\n",
    "        while line:\n",
    "            text.append(gensim.utils.simple_preprocess(line))\n",
    "            line = file.readline()\n",
    "\n",
    "dt = Word2Vec(text, size=10, window=5, min_count=1, workers=4)\n",
    "dt.train(text, total_examples=len(text), epochs=100)"
   ]
  },
  {
   "cell_type": "code",
   "execution_count": 25,
   "metadata": {},
   "outputs": [
    {
     "name": "stdout",
     "output_type": "stream",
     "text": [
      "[-0.4882315  -0.7992657   0.40448263 -0.13521193  1.0974772  -0.5537114\n",
      " -0.46462747 -0.8319872   1.6323336   0.12403236]\n"
     ]
    }
   ],
   "source": [
    "print(dt.wv['war'])"
   ]
  },
  {
   "cell_type": "code",
   "execution_count": 26,
   "metadata": {},
   "outputs": [
    {
     "data": {
      "text/plain": [
       "[('middle', 0.929962158203125),\n",
       " ('reclaim', 0.9265064597129822),\n",
       " ('rightly', 0.9256851673126221),\n",
       " ('homes', 0.9251159429550171),\n",
       " ('struggle', 0.9215483665466309),\n",
       " ('outraged', 0.9179838299751282),\n",
       " ('they', 0.9028629660606384),\n",
       " ('east', 0.8976569771766663),\n",
       " ('futures', 0.8967217803001404),\n",
       " ('gates', 0.8892354965209961)]"
      ]
     },
     "execution_count": 26,
     "metadata": {},
     "output_type": "execute_result"
    }
   ],
   "source": [
    "dt.wv.most_similar(positive='people')"
   ]
  },
  {
   "cell_type": "code",
   "execution_count": null,
   "metadata": {
    "collapsed": true
   },
   "outputs": [],
   "source": []
  }
 ],
 "metadata": {
  "kernelspec": {
   "display_name": "Python 3",
   "language": "python",
   "name": "python3"
  },
  "language_info": {
   "codemirror_mode": {
    "name": "ipython",
    "version": 3
   },
   "file_extension": ".py",
   "mimetype": "text/x-python",
   "name": "python",
   "nbconvert_exporter": "python",
   "pygments_lexer": "ipython3",
   "version": "3.6.3"
  }
 },
 "nbformat": 4,
 "nbformat_minor": 2
}
