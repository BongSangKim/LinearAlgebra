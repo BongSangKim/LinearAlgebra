{
 "cells": [
  {
   "cell_type": "code",
   "execution_count": 21,
   "metadata": {},
   "outputs": [
    {
     "name": "stdout",
     "output_type": "stream",
     "text": [
      "neg\n",
      "pos\n",
      "unsup\n"
     ]
    },
    {
     "data": {
      "text/plain": [
       "(129368659, 169992700)"
      ]
     },
     "execution_count": 21,
     "metadata": {},
     "output_type": "execute_result"
    }
   ],
   "source": [
    "import gensim \n",
    "from os import walk\n",
    "\n",
    "file_list = []\n",
    "current_path = \"../group_20/aclImdb/train/\"\n",
    "\n",
    "def read_input(current_path, file_list):\n",
    "    for (dirpath, dirnames, _) in walk(current_path):\n",
    "        for dirname in dirnames:\n",
    "            for (_, _, filenames) in walk(current_path + dirname):\n",
    "                for filename in filenames:\n",
    "                    with open(current_path + dirname + '/' + filename, encoding='utf-8') as file:\n",
    "                        for j, line in enumerate(file):\n",
    "                            yield gensim.utils.simple_preprocess(line)\n",
    "\n",
    "document = list(read_input(current_path, file_list))\n",
    "\n",
    "Imdb_review_model = gensim.models.Word2Vec (document, size=50, window=10, min_count=2, workers=4)\n",
    "Imdb_review_model.train(document, total_examples=len(document), epochs=10)"
   ]
  },
  {
   "cell_type": "code",
   "execution_count": 22,
   "metadata": {},
   "outputs": [
    {
     "data": {
      "text/plain": [
       "array([-5.417965  , -0.29541355, -4.077036  , -0.15914145,  2.1616344 ,\n",
       "        2.8794796 ,  2.0367963 ,  2.4561493 ,  1.0242066 ,  3.547608  ,\n",
       "        1.2455571 , -0.0231355 ,  2.5833807 ,  4.6095834 , -0.6019455 ,\n",
       "       -1.5181314 ,  0.35333687,  3.9718223 ,  0.93765205,  2.6573458 ,\n",
       "       -3.5082197 ,  4.528874  , -0.7063457 ,  4.0898933 , -3.2253351 ,\n",
       "        0.98315006,  0.484121  , -2.7076666 ,  0.46639752, -3.4604692 ,\n",
       "        0.75192505, -7.180612  , -2.2534604 , -6.1422896 , -0.30873823,\n",
       "       -1.0481647 ,  2.123767  ,  2.544564  , -2.7237117 ,  2.4106696 ,\n",
       "       -1.9558036 ,  2.8908806 ,  1.0605178 , -0.8021128 , -4.104199  ,\n",
       "        0.29835624, -1.9405675 ,  3.0352945 ,  4.140157  , -3.639733  ],\n",
       "      dtype=float32)"
      ]
     },
     "execution_count": 22,
     "metadata": {},
     "output_type": "execute_result"
    }
   ],
   "source": [
    "Imdb_review_model.wv['fun']"
   ]
  },
  {
   "cell_type": "code",
   "execution_count": 23,
   "metadata": {},
   "outputs": [
    {
     "data": {
      "text/plain": [
       "[('entertaining', 0.7144640684127808),\n",
       " ('funny', 0.6970599889755249),\n",
       " ('enjoyable', 0.6909166574478149),\n",
       " ('laughs', 0.6376445293426514),\n",
       " ('laugh', 0.6105514764785767),\n",
       " ('cheesy', 0.6063879728317261),\n",
       " ('scary', 0.6060782074928284),\n",
       " ('hoot', 0.5967482924461365),\n",
       " ('campy', 0.5950718522071838),\n",
       " ('watchable', 0.5920515060424805),\n",
       " ('popcorn', 0.5835415124893188),\n",
       " ('good', 0.5758621692657471),\n",
       " ('entertainment', 0.5657311677932739),\n",
       " ('amusing', 0.5609129667282104),\n",
       " ('humor', 0.5581991076469421),\n",
       " ('exciting', 0.5539864897727966),\n",
       " ('worth', 0.5522226691246033),\n",
       " ('bearable', 0.5495377779006958),\n",
       " ('pleasant', 0.5490581393241882),\n",
       " ('hilarious', 0.5465127825737)]"
      ]
     },
     "execution_count": 23,
     "metadata": {},
     "output_type": "execute_result"
    }
   ],
   "source": [
    "Imdb_review_model.wv.most_similar(positive = ['fun'], topn=20)"
   ]
  },
  {
   "cell_type": "code",
   "execution_count": 66,
   "metadata": {},
   "outputs": [
    {
     "name": "stdout",
     "output_type": "stream",
     "text": [
      "[0.14256373 0.10643349 0.08020781 0.04523052 0.11495   ]\n"
     ]
    }
   ],
   "source": [
    "import numpy as np\n",
    "\n",
    "wordcat = ['entertaining', 'horror', 'cute', 'love', 'action']\n",
    "v = []\n",
    "for word in wordcat:\n",
    "    v.append(Imdb_review_model.wv[word])\n",
    "    \n",
    "    \n",
    "vocablist = []\n",
    "for word, vect in Imdb_review_model.wv.vocab.items():\n",
    "    vocablist.append(word)\n",
    "\n",
    "file_list = []\n",
    "current_path = \"./\"\n",
    "sumdot = [0,0,0,0,0]\n",
    "numsum = [0,0,0,0,0]\n",
    "for (_, _, filenames) in walk(current_path):\n",
    "    with open(\"1.txt\", encoding='utf-8') as file:\n",
    "        for j, line in enumerate(file):\n",
    "            wordlist = gensim.utils.simple_preprocess(line)\n",
    "            for word in wordlist:\n",
    "                if word in vocablist:\n",
    "                    for i in range(len(v)):\n",
    "                        dotnum = np.dot(v[i], Imdb_review_model.wv[word]) / np.linalg.norm(v[i]) / np.linalg.norm(Imdb_review_model.wv[word])\n",
    "                        #print(dotnum)\n",
    "                        sumdot[i] += dotnum\n",
    "                        #print(sumdot[i])\n",
    "                        numsum[i] += 1\n",
    "                        #print(numsum[i])\n",
    "print(np.array(sumdot)/np.array(numsum))"
   ]
  }
 ],
 "metadata": {
  "kernelspec": {
   "display_name": "Python 3",
   "language": "python",
   "name": "python3"
  },
  "language_info": {
   "codemirror_mode": {
    "name": "ipython",
    "version": 3
   },
   "file_extension": ".py",
   "mimetype": "text/x-python",
   "name": "python",
   "nbconvert_exporter": "python",
   "pygments_lexer": "ipython3",
   "version": "3.7.1"
  }
 },
 "nbformat": 4,
 "nbformat_minor": 2
}
