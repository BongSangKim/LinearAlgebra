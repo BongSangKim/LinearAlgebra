{
 "cells": [
  {
   "cell_type": "markdown",
   "metadata": {},
   "source": [
    "## Project 2"
   ]
  },
  {
   "cell_type": "code",
   "execution_count": 15,
   "metadata": {},
   "outputs": [
    {
     "data": {
      "text/plain": [
       "(4884992, 4965000)"
      ]
     },
     "execution_count": 15,
     "metadata": {},
     "output_type": "execute_result"
    }
   ],
   "source": [
    "from gensim.models import Word2Vec\n",
    "import gensim.utils\n",
    "\n",
    "text = []\n",
    "filename = \"news_data_ko.txt\"\n",
    "with open(filename) as file:\n",
    "    line = file.readline()\n",
    "    while line:\n",
    "        text.append(gensim.utils.simple_preprocess(line))\n",
    "        line = file.readline()\n",
    "\n",
    "news = Word2Vec(text, size=10, window=5, min_count=1, workers=4)\n",
    "news.train(text, total_examples=len(text), epochs=500)"
   ]
  },
  {
   "cell_type": "code",
   "execution_count": 16,
   "metadata": {},
   "outputs": [
    {
     "name": "stdout",
     "output_type": "stream",
     "text": [
      "판문점 63\n"
     ]
    }
   ],
   "source": [
    "maxcount = 0\n",
    "maxword = str()\n",
    "for word, obj in news.wv.vocab.items():\n",
    "    if maxcount < obj.count:\n",
    "        maxcount = obj.count\n",
    "        maxword = word\n",
    "print(maxword, maxcount)"
   ]
  },
  {
   "cell_type": "code",
   "execution_count": 21,
   "metadata": {},
   "outputs": [
    {
     "data": {
      "text/plain": [
       "[('대표도', 0.9236695766448975),\n",
       " ('명시한', 0.9073270559310913),\n",
       " ('대한애국당', 0.9023405313491821),\n",
       " ('이해당사자들이', 0.8994641304016113),\n",
       " ('선언이', 0.8958847522735596),\n",
       " ('선언에', 0.8789705634117126),\n",
       " ('선언', 0.8642570972442627),\n",
       " ('선언은', 0.8637886047363281),\n",
       " ('도출되자', 0.860689640045166),\n",
       " ('이뤄짐에', 0.8479161262512207)]"
      ]
     },
     "execution_count": 21,
     "metadata": {},
     "output_type": "execute_result"
    }
   ],
   "source": [
    "news.wv.most_similar(positive=['판문점'])"
   ]
  },
  {
   "cell_type": "code",
   "execution_count": 22,
   "metadata": {},
   "outputs": [
    {
     "data": {
      "text/plain": [
       "[('자기네', 0.780845046043396),\n",
       " ('한민족이', 0.7657471895217896),\n",
       " ('폐기하는', 0.7608705163002014),\n",
       " ('결정서에', 0.7595013380050659),\n",
       " ('거고', 0.746246337890625),\n",
       " ('들어내겠지', 0.7406008839607239),\n",
       " ('일은', 0.7381680011749268),\n",
       " ('경우는', 0.7355106472969055),\n",
       " ('본성을', 0.7344804406166077),\n",
       " ('그럴수는', 0.7283374667167664)]"
      ]
     },
     "execution_count": 22,
     "metadata": {},
     "output_type": "execute_result"
    }
   ],
   "source": [
    "news.wv.most_similar(negative=['판문점'])"
   ]
  },
  {
   "cell_type": "code",
   "execution_count": 31,
   "metadata": {},
   "outputs": [
    {
     "name": "stdout",
     "output_type": "stream",
     "text": [
      "판문점 63\n",
      "있는 60\n",
      "김정은 48\n",
      "있다 48\n",
      "남북 46\n",
      "비핵화 41\n",
      "한반도 41\n",
      "지금 38\n",
      "트럼프 35\n",
      "대한 34\n"
     ]
    }
   ],
   "source": [
    "wordlist = []\n",
    "count = []\n",
    "for word, obj in news.wv.vocab.items():\n",
    "    wordlist.append(word)\n",
    "    count.append(obj.count)\n",
    "for _ in range(10):\n",
    "    idx = count.index(max(count))\n",
    "    print(wordlist[idx], max(count))\n",
    "    del count[idx]\n",
    "    del wordlist[idx]"
   ]
  }
 ],
 "metadata": {
  "kernelspec": {
   "display_name": "Python 3",
   "language": "python",
   "name": "python3"
  },
  "language_info": {
   "codemirror_mode": {
    "name": "ipython",
    "version": 3
   },
   "file_extension": ".py",
   "mimetype": "text/x-python",
   "name": "python",
   "nbconvert_exporter": "python",
   "pygments_lexer": "ipython3",
   "version": "3.6.3"
  }
 },
 "nbformat": 4,
 "nbformat_minor": 2
}
