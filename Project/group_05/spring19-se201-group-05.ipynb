{
 "cells": [
  {
   "cell_type": "markdown",
   "metadata": {},
   "source": [
    "## Project 5"
   ]
  },
  {
   "cell_type": "code",
   "execution_count": 43,
   "metadata": {},
   "outputs": [
    {
     "data": {
      "text/plain": [
       "(4884992, 4965000)"
      ]
     },
     "execution_count": 43,
     "metadata": {},
     "output_type": "execute_result"
    }
   ],
   "source": [
    "from gensim.models import Word2Vec\n",
    "import gensim.utils\n",
    "\n",
    "text = []\n",
    "filename = \"news_data_ko.txt\"\n",
    "with open(filename, encoding = 'utf-8') as file:\n",
    "    line = file.readline()\n",
    "    while line:\n",
    "        text.append(gensim.utils.simple_preprocess(line))\n",
    "        line = file.readline()\n",
    "\n",
    "news = Word2Vec(text, size=10, window=5, min_count=1, workers=4)\n",
    "news.train(text, total_examples=len(text), epochs=500)"
   ]
  },
  {
   "cell_type": "code",
   "execution_count": 40,
   "metadata": {},
   "outputs": [
    {
     "name": "stdout",
     "output_type": "stream",
     "text": [
      "  10431\n"
     ]
    }
   ],
   "source": [
    "maxcount = 0\n",
    "maxword = str()\n",
    "for word, obj in news.wv.vocab.items():\n",
    "    if maxcount < obj.count:\n",
    "        maxcount = obj.count\n",
    "        maxword = word\n",
    "print(maxword, maxcount)"
   ]
  },
  {
   "cell_type": "code",
   "execution_count": 45,
   "metadata": {},
   "outputs": [
    {
     "data": {
      "text/plain": [
       "[('재건', 0.9260490536689758),\n",
       " ('북한의', 0.8804104328155518),\n",
       " ('선의', 0.8705841302871704),\n",
       " ('어쩌면', 0.8607751727104187),\n",
       " ('협력프로그램', 0.8550430536270142),\n",
       " ('밝혔고요', 0.8497944474220276),\n",
       " ('비핵화와', 0.8468262553215027),\n",
       " ('통화', 0.8379679322242737),\n",
       " ('비핵화를', 0.8310852646827698),\n",
       " ('투명성', 0.8288812637329102)]"
      ]
     },
     "execution_count": 45,
     "metadata": {},
     "output_type": "execute_result"
    }
   ],
   "source": [
    "news.wv.most_similar(positive=['비핵화'])"
   ]
  },
  {
   "cell_type": "code",
   "execution_count": 15,
   "metadata": {},
   "outputs": [
    {
     "data": {
      "text/plain": [
       "[('수준이', 0.7711420655250549),\n",
       " ('연합뉴스도', 0.7594971060752869),\n",
       " ('립서비스', 0.7362435460090637),\n",
       " ('노스를', 0.7172896862030029),\n",
       " ('무조건', 0.7164448499679565),\n",
       " ('플레이어인', 0.7084504961967468),\n",
       " ('한심한', 0.704056441783905),\n",
       " ('용납될', 0.7014203071594238),\n",
       " ('거고', 0.6956864595413208),\n",
       " ('정리하든지', 0.6885946989059448)]"
      ]
     },
     "execution_count": 15,
     "metadata": {},
     "output_type": "execute_result"
    }
   ],
   "source": [
    "news.wv.most_similar(negative=['판문점'])"
   ]
  },
  {
   "cell_type": "code",
   "execution_count": 28,
   "metadata": {},
   "outputs": [
    {
     "name": "stdout",
     "output_type": "stream",
     "text": [
      "\n"
     ]
    }
   ],
   "source": [
    "wordlist = []\n",
    "count = []\n",
    "for word, obj in news.wv.vocab.items():\n",
    "    wordlist.append(word)\n",
    "    count.append(obj.count)\n",
    "    print(word)\n",
    "for _ in range(10):\n",
    "    idx = count.index(max(count))\n",
    "    print(wordlist[idx], max(count))\n",
    "    del count[idx]\n",
    "    del wordlist[idx]"
   ]
  }
 ],
 "metadata": {
  "kernelspec": {
   "display_name": "Python 3",
   "language": "python",
   "name": "python3"
  },
  "language_info": {
   "codemirror_mode": {
    "name": "ipython",
    "version": 3
   },
   "file_extension": ".py",
   "mimetype": "text/x-python",
   "name": "python",
   "nbconvert_exporter": "python",
   "pygments_lexer": "ipython3",
   "version": "3.7.1"
  }
 },
 "nbformat": 4,
 "nbformat_minor": 2
}
