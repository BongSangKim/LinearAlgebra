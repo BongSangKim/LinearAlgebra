{
 "cells": [
  {
   "cell_type": "markdown",
   "metadata": {},
   "source": [
    "# Week 6\n",
    "\n",
    "## Lecture 11\n",
    "\n",
    "### Announcement\n",
    "\n",
    "  * HW4 is up (preparation for midterm)\n",
    "  * Recitation(4/4) on E7 242\n",
    "\n",
    "### Contents\n",
    "\n",
    "  * Determinant\n",
    "  \n",
    "## Lecture 12\n",
    "\n",
    "### Announcement\n",
    "\n",
    "  * Recitation on E7 242 today\n",
    "\n",
    "### Contents\n",
    "\n",
    "  * Determinant"
   ]
  }
 ],
 "metadata": {
  "kernelspec": {
   "display_name": "Python 3",
   "language": "python",
   "name": "python3"
  },
  "language_info": {
   "codemirror_mode": {
    "name": "ipython",
    "version": 3
   },
   "file_extension": ".py",
   "mimetype": "text/x-python",
   "name": "python",
   "nbconvert_exporter": "python",
   "pygments_lexer": "ipython3",
   "version": "3.7.1"
  }
 },
 "nbformat": 4,
 "nbformat_minor": 2
}
