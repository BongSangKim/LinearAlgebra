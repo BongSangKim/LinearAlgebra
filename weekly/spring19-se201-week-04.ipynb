{
 "cells": [
  {
   "cell_type": "markdown",
   "metadata": {},
   "source": [
    "# Week 04\n",
    "\n",
    "## Lecture 07 (19/3/18)\n",
    "\n",
    "### To Do\n",
    "\n",
    "* Review previous lecture\n",
    "* Check roster\n",
    "\n",
    "### Contents (3.1-3.2)\n",
    "\n",
    "* Inner product\n",
    "  * Definition: $a\\circ b = a^Tb$\n",
    "  * **Q** Show that for any two vectors $v,w$ with internal angle $\\theta$, the following holds.\n",
    "    $$v\\cdot w = \\Vert v\\Vert\\Vert w\\Vert\\cos\\theta$$\n",
    "\n",
    "* Orthogonality\n",
    "  * $R(A)\\perp N(A)$, $C(A)\\perp N(A^T)$\n",
    "  * Orthogonal complement\n",
    "\n",
    "* Projection\n",
    "\n",
    "### Timeline\n",
    "\n",
    "* (0 ~ 5 min) Review\n",
    "* (5 ~ 10 min) Questions, roster\n",
    "* (10 ~ 55 min) Lecture on contents (English)\n",
    "* (55 ~ 75 min) Discussion (Korean)"
   ]
  },
  {
   "cell_type": "markdown",
   "metadata": {},
   "source": [
    "## Lecture 08 (19/3/21)\n",
    "\n",
    "### To Do\n",
    "\n",
    "* Review previous lecture\n",
    "* Reanounce homework 02\n",
    "* Check roster\n",
    "\n",
    "### Contents (3.3)\n",
    "\n",
    "* Least square approximation\n",
    "  \n",
    "### Timeline\n",
    "\n",
    "* (0 ~ 5 min) Review\n",
    "* (5 ~ 10 min) Questions, roster\n",
    "* (10 ~ 55 min) Lecture on contents (English)\n",
    "* (55 ~ 75 min) Discussion (Korean)"
   ]
  }
 ],
 "metadata": {
  "kernelspec": {
   "display_name": "Python 3",
   "language": "python",
   "name": "python3"
  },
  "language_info": {
   "codemirror_mode": {
    "name": "ipython",
    "version": 3
   },
   "file_extension": ".py",
   "mimetype": "text/x-python",
   "name": "python",
   "nbconvert_exporter": "python",
   "pygments_lexer": "ipython3",
   "version": "3.6.3"
  }
 },
 "nbformat": 4,
 "nbformat_minor": 2
}
