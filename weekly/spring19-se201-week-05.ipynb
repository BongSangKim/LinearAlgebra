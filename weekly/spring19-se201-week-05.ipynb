{
 "cells": [
  {
   "cell_type": "markdown",
   "metadata": {},
   "source": [
    "# Week 5\n",
    "\n",
    "## Lecture 9\n",
    "\n",
    "### Todo\n",
    "\n",
    "* HW3 announce\n",
    "* Recitation together in one classroom\n",
    "\n",
    "### Contents(3.3)\n",
    "\n",
    "* Least square approximation\n",
    "  * Finding a best estimate $\\hat x$ for $Ax=b$ which minizes the error $E = |b-A\\hat x|$.\n",
    "  * Normal equation $A^TA\\hat x = A^Tb$\n",
    "  * Best estimate: $\\hat x = (A^TA)^{-1}A^Tb$\n",
    "  * Projection: $p = A\\hat x = A(A^TA)^{-1}A^Tb$\n",
    "\n",
    "* Invertibility of $A^TA$.\n",
    "  * $N(A^TA) = N(A)$\n",
    "  * Theorem: $A^TA$ is invertible if $N(A)=0$.\n",
    "  \n",
    "* Applications\n",
    "  * Line-fitting: $C+Dt = y$\n",
    "    * Example: Fitting $C+Dt = y$ for\n",
    "    $$t = \\begin{bmatrix}-1 \\\\ 1 \\\\ 2\\end{bmatrix},\\quad y = \\begin{bmatrix}1\\\\1\\\\3\\end{bmatrix}$$\n",
    "  * Weighted error: $E = |WAx - Wb|$.\n",
    "    * Weighted normal equation: $(A^TW^TWA)\\hat x = A^TW^TWb$.\n",
    "    * Weighted inner product: $(x,y)_W = (Wy)^T(Wx)$."
   ]
  },
  {
   "cell_type": "markdown",
   "metadata": {},
   "source": [
    "## Lecture 10\n",
    "\n",
    "### Contents(3.4)\n",
    "\n",
    "* Orthonormal basis\n",
    "  * Orthonormal vectors\n",
    "  * Orthonormal (book calls it *orthogonal*) matrix\n",
    "    * Upshot: Computing the least square becomes simple!\n",
    "    * Example: Fitting $C+Dt = y$ for\n",
    "    $$t = \\begin{bmatrix}3 \\\\ 0 \\\\ -3\\end{bmatrix},\\quad\\begin{bmatrix}y_1\\\\y_2\\\\y_3\\end{bmatrix}$$\n",
    "\n",
    "* Gram-Schmidt\n",
    "  * Example: $\\begin{bmatrix}1\\\\0\\\\1\\end{bmatrix},\\begin{bmatrix}1\\\\0\\\\0\\end{bmatrix},\\begin{bmatrix}2\\\\1\\\\0\\end{bmatrix}$\n",
    "\n",
    "* QR factorization"
   ]
  }
 ],
 "metadata": {
  "kernelspec": {
   "display_name": "Python 3",
   "language": "python",
   "name": "python3"
  },
  "language_info": {
   "codemirror_mode": {
    "name": "ipython",
    "version": 3
   },
   "file_extension": ".py",
   "mimetype": "text/x-python",
   "name": "python",
   "nbconvert_exporter": "python",
   "pygments_lexer": "ipython3",
   "version": "3.6.3"
  }
 },
 "nbformat": 4,
 "nbformat_minor": 2
}
