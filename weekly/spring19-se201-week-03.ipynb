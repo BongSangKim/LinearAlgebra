{
 "cells": [
  {
   "cell_type": "markdown",
   "metadata": {},
   "source": [
    "\n",
    "# Week 03\n",
    "\n",
    "## Lecture 05 (19/3/11)\n",
    "\n",
    "### To Do\n",
    "\n",
    "* Review previous lecture\n",
    "* Check roster\n",
    "\n",
    "### Contents (2.3)\n",
    "\n",
    "* Linear independency\n",
    "  * Definition\n",
    "  * Linear independeces for column vectors and row vectors in REF\n",
    "    * Example: $A = \\begin{bmatrix}1 & 3 & 3 & 2 \\\\ 2 & 6 & 9 & 5 \\\\ -1 & -3 & 3 & 0\\end{bmatrix}$\n",
    "  * **Q** Show that $n$ number of $m$-dimensional vectors are linearly dependent if $n>\n",
    "  m$.\n",
    "* Basis and dimensions\n",
    "  * Definition of basis\n",
    "    * Compare the basis of $C(A)$ and $C(R)$ where\n",
    "      $$R = \\begin{bmatrix}1 & 3 & 3 & 2 \\\\ 0 & 0 & 3 & 1 \\\\ 0 & 0 & 0 & 0\\end{bmatrix}$\n",
    "  * Dimension of vector subspaces'\n",
    "    * Uniqueness of dimension: if $v_1,\\cdots,v_n$ and $w_1,\\cdots,w_m$ are basis of $V$, then $n=m$.\n",
    "    * **Q** Show that the dimension of the column space $C(A)$ is the number of pivots in $A$.\n",
    "* The row space $R(A)$ and the null space $N(A)$\n",
    "  * The row rank of $A$ and dimension of $R(A), N(A)$\n",
    "  * Basis of $R(A)$ and $N(A)$.\n",
    "\n",
    "### Timeline\n",
    "\n",
    "* (0 ~ 5 min) Review\n",
    "* (5 ~ 10 min) Questions, roster\n",
    "* (10 ~ 55 min) Lecture on contents (English)\n",
    "* (55 ~ 75 min) Discussion (Korean)\n",
    "\n",
    "## Lecture 06 (19/3/14)\n",
    "\n",
    "### To Do\n",
    "\n",
    "* Review previous lecture\n",
    "* Check roster\n",
    "\n",
    "### Contents (2.4)\n",
    "\n",
    "* The column space $C(A)$ and the left null space\n",
    "\n",
    "* Graphs\n",
    "\n",
    "* Networks\n",
    "\n",
    "### Timeline\n",
    "\n",
    "* (0 ~ 5 min) Review\n",
    "* (5 ~ 10 min) Questions, roster\n",
    "* (10 ~ 55 min) Lecture on contents (English)\n",
    "* (55 ~ 75 min) Discussion (Korean)\n"
   ]
  }
 ],
 "metadata": {
  "kernelspec": {
   "display_name": "Python 3",
   "language": "python",
   "name": "python3"
  },
  "language_info": {
   "codemirror_mode": {
    "name": "ipython",
    "version": 3
   },
   "file_extension": ".py",
   "mimetype": "text/x-python",
   "name": "python",
   "nbconvert_exporter": "python",
   "pygments_lexer": "ipython3",
   "version": "3.6.3"
  }
 },
 "nbformat": 4,
 "nbformat_minor": 2
}
