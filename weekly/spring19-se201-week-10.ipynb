{
 "cells": [
  {
   "cell_type": "markdown",
   "metadata": {},
   "source": [
    "# Week 10\n",
    "\n",
    "## Lecture 17\n",
    "\n",
    "### Review\n",
    "\n",
    "* Prop: If AB=BA, then $A,B$ admits the same eigenvalue matrix $S$.\n",
    "* Prop: If $A$ has $n$ distinct e.vals, then $A$ is diagonalizable.\n",
    "\n",
    "### Contents\n",
    "\n",
    "* Difference equations\n",
    "  * Fibonacci equation: $F_{k+2} = F_{k+1} + F_{k}$\n",
    "    * $u_k = \\begin{bmatrix} F_{k+1} \\\\ F_{k} \\end{bmatrix}$\n",
    "    * $u_{k+1} = \\begin{bmatrix} 1 & 1 \\\\ 1 & 0 \\end{bmatrix}u_{k}$\n",
    "    * E.vals for $A = \\begin{bmatrix} 1 & 1 \\\\ 0 & 1 \\end{bmatrix}$: $\\lambda = \\frac{1\\pm\\sqrt5}{2}$.\n",
    "    * $S = \\begin{bmatrix} \\lambda_1 & \\lambda_2 \\\\ 1 & 1 \\end{bmatrix}$, \n",
    "  * Markov equation: $\\begin{bmatrix}y_1 \\\\ y_2 \\end{bmatrix} = \\begin{bmatrix} p_{11} & p_{12} \\\\ p_{21} & p_{22} \\end{bmatrix}$\n",
    "    * Markov matrix: each column adding to $1$, and no negative entries.\n",
    "    * Steady-state solution is the e.vec for e.val $1$.\n",
    "    * All other e.val has abs $<1$.\n",
    "    * $u_{k+1} = \\begin{bmatrix}.9 & .2 \\\\.1 & .8\\end{bmatrix}u_{k}$ : 10% moves into Daegu, 20% moves out Daegu each year.\n",
    "  * Difference equation in general\n",
    "    * stable if all e.vals has abs $<1$.\n",
    "    * semi-stable if some e.vals have abs $=1$, and all the other has $<1$.\n",
    "    * unstable if some e.vals have abs $>1$.\n",
    "    * stable: $\\begin{bmatrix}0 & 4 \\\\ 0 & 1/2\\end{bmatrix}$\n",
    "  * Leontif's intput-output model\n",
    "    * $p$: productio, $y$: demand. $A = (a_{ij})$, $a_{ij}$: amount of product $j$ need to produce $1$ unit of product $i$.\n",
    "    * $y = p - Ap$. $p = (I-A)^{-1}y$.\n",
    "    * Let  $\\lambda_1$ be the largest e.val of $A$.\n",
    "      * If $\\lambda>1$, then $(I-A)^{-1}$ is negative. $A = \\begin{bmatrix}0 & 2 \\\\2 & 0\\end{bmatrix}$\n",
    "      * If $\\lambda=0$, then $(I-A)^{-1}$ does not exists.\n",
    "      * If $\\lambda<1$, then $(I-A)^{-1}$ is nonnegative. $A = \\begin{bmatrix}.5 & 2 \\\\0 & .5\\end{bmatrix}$\n",
    "    * Example: $A = \\begin{bmatrix} .4 & .0 & .1 \\\\ .0 & .1 & .8 \\\\ .5 & .7 .1 \\end{bmatrix}$. char. poly: $x^3 - 3/5x^2 - 13/25x + 9/40 = (x-0.9)(x^2-3/10x-1/4) = 0$. Max e.val = $.9$.\n",
    "  * von Neumann's exapnding economy model\n",
    "    * $p = B y$. $p$: input, $y$:output.\n",
    "    * Economy grows if the largest eigenvalue $\\lambda_1<1$.\n",
    "\n",
    "## Lecture 18\n",
    "\n",
    "### Review\n",
    "\n",
    "* E.val and e.vec for\n",
    "  $$A = \\begin{bmatrix} .2 & .4 & .3 \\\\ .4 & .2 & .3 \\\\ .4 & .4 & .4 \\end{bmatrix}$$\n",
    "* Find steady-state solution (of Markov equation)\n",
    "\n",
    "* Differential equatios\n",
    "  "
   ]
  }
 ],
 "metadata": {
  "kernelspec": {
   "display_name": "Python 3",
   "language": "python",
   "name": "python3"
  },
  "language_info": {
   "codemirror_mode": {
    "name": "ipython",
    "version": 3
   },
   "file_extension": ".py",
   "mimetype": "text/x-python",
   "name": "python",
   "nbconvert_exporter": "python",
   "pygments_lexer": "ipython3",
   "version": "3.6.3"
  }
 },
 "nbformat": 4,
 "nbformat_minor": 2
}
