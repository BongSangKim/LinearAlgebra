{
 "cells": [
  {
   "cell_type": "markdown",
   "metadata": {},
   "source": [
    "# PyLec 6 - Word2Vec using gensim package"
   ]
  },
  {
   "cell_type": "code",
   "execution_count": null,
   "metadata": {
    "collapsed": true
   },
   "outputs": [],
   "source": []
  },
  {
   "cell_type": "code",
   "execution_count": 3,
   "metadata": {
    "collapsed": true
   },
   "outputs": [],
   "source": [
    "from gensim.test.utils import common_texts, get_tmpfile\n",
    "from gensim.models import Word2Vec\n",
    "\n",
    "path = get_tmpfile(\"word2vec.model\")\n",
    "\n",
    "model = Word2Vec(common_texts, size=100, window=5, min_count=1, workers=4)\n",
    "model.save(\"word2vec.model\")"
   ]
  },
  {
   "cell_type": "code",
   "execution_count": 5,
   "metadata": {},
   "outputs": [
    {
     "data": {
      "text/plain": [
       "(0, 2)"
      ]
     },
     "execution_count": 5,
     "metadata": {},
     "output_type": "execute_result"
    }
   ],
   "source": [
    "model = Word2Vec.load(\"word2vec.model\")\n",
    "model.train([[\"hello\", \"world\"]], total_examples=1, epochs=1)"
   ]
  },
  {
   "cell_type": "code",
   "execution_count": 8,
   "metadata": {},
   "outputs": [
    {
     "name": "stdout",
     "output_type": "stream",
     "text": [
      "[-4.0190378e-03  2.9773333e-03 -1.4394526e-03 -2.4869270e-03\n",
      " -1.2497238e-03 -1.6597549e-03 -3.5841744e-03  1.8661545e-03\n",
      "  2.6501200e-04  3.7615520e-03  3.5108270e-03 -4.2565386e-03\n",
      " -2.2214339e-03  2.4445774e-03 -4.9126046e-03  7.2077347e-04\n",
      "  2.1840036e-03 -4.0851841e-03 -2.5512262e-03 -4.6710868e-04\n",
      "  1.9266281e-03 -1.4077723e-03  7.9166738e-04 -1.6226310e-03\n",
      " -1.2798952e-03  2.0490908e-03  3.8788526e-03 -4.5968331e-03\n",
      "  1.5339070e-03  1.9190082e-03 -3.2751327e-03 -4.3664430e-04\n",
      " -2.0814748e-03  2.0807812e-03 -4.0126662e-03 -5.6595774e-04\n",
      "  2.9167100e-03 -4.0939008e-03 -4.6441574e-03 -1.5887838e-04\n",
      " -3.2428552e-03  2.1329310e-03  3.9034670e-03 -4.2371298e-03\n",
      "  3.8862607e-05 -3.0946028e-03  2.7618369e-03 -3.6653841e-03\n",
      " -1.7227795e-03  4.0792418e-03  1.8723541e-03 -4.7603445e-03\n",
      "  3.5983799e-03  8.9864584e-04  3.6496702e-03  1.9283270e-03\n",
      " -2.0939854e-03 -1.7199925e-03 -1.4791563e-03  2.0760261e-03\n",
      " -1.2014285e-03  4.2162179e-03 -1.4244382e-03 -5.7183416e-04\n",
      " -2.4020800e-03  2.1638798e-03  1.2413800e-03 -4.7393297e-03\n",
      " -2.4595838e-03 -2.0999488e-04 -4.2944402e-03 -2.7365601e-03\n",
      "  2.7745739e-03  4.5501152e-03  2.1213321e-03 -4.3475302e-03\n",
      " -2.6708941e-03  2.2335118e-03 -4.2728027e-03  8.6968136e-04\n",
      "  2.5286474e-03 -3.8201462e-03  5.5653079e-05  4.0441984e-03\n",
      " -3.9566872e-03  3.4895097e-03 -2.2847238e-03  2.1255442e-03\n",
      "  2.5970109e-03  4.9961451e-03 -1.1029924e-03  2.7577789e-03\n",
      " -2.7350124e-03 -1.5512481e-03  3.2093928e-03  3.0922491e-04\n",
      " -2.0376376e-03  3.5743159e-04 -4.9318853e-03  6.5254273e-05]\n"
     ]
    }
   ],
   "source": [
    "vector = model.wv['computer']"
   ]
  },
  {
   "cell_type": "code",
   "execution_count": 9,
   "metadata": {},
   "outputs": [
    {
     "name": "stdout",
     "output_type": "stream",
     "text": [
      "[['human', 'interface', 'computer'], ['survey', 'user', 'computer', 'system', 'response', 'time'], ['eps', 'user', 'interface', 'system'], ['system', 'human', 'system', 'eps'], ['user', 'response', 'time'], ['trees'], ['graph', 'trees'], ['graph', 'minors', 'trees'], ['graph', 'minors', 'survey']]\n"
     ]
    }
   ],
   "source": [
    "print(common_texts)"
   ]
  },
  {
   "cell_type": "code",
   "execution_count": 23,
   "metadata": {},
   "outputs": [
    {
     "data": {
      "text/plain": [
       "(874203, 1206760)"
      ]
     },
     "execution_count": 23,
     "metadata": {},
     "output_type": "execute_result"
    }
   ],
   "source": [
    "import gensim.utils\n",
    "\n",
    "with open(\"../data/pride-and-prejudice.txt\") as file:\n",
    "    text = []\n",
    "    line = file.readline()\n",
    "    while line:\n",
    "        text.append(gensim.utils.simple_preprocess(line))\n",
    "        line = file.readline()\n",
    "\n",
    "model = Word2Vec(text, size=100, window=5, min_count=1, workers=4)\n",
    "model.train(text, total_examples=len(text), epochs=10)"
   ]
  },
  {
   "cell_type": "code",
   "execution_count": 13,
   "metadata": {},
   "outputs": [
    {
     "name": "stdout",
     "output_type": "stream",
     "text": [
      "[-3.34595978e-01  1.06500268e-01 -3.29709589e-01  1.75962914e-02\n",
      " -9.63690281e-02 -7.76824579e-02 -4.51195210e-01  6.42028055e-04\n",
      " -5.03022850e-01  2.53060728e-01 -8.69594067e-02  4.64419127e-01\n",
      " -2.70650033e-02 -1.10762969e-01 -2.61032637e-02  8.24492648e-02\n",
      " -2.29725152e-01 -1.61958441e-01  1.32246360e-01 -2.93349743e-01\n",
      "  5.48356891e-01  1.33424297e-01 -5.43386042e-02  3.49377424e-01\n",
      "  1.12456359e-01 -6.26077726e-02  1.78780690e-01  6.82525158e-01\n",
      " -9.51294303e-02  7.95737207e-02  4.30817455e-01  2.18285114e-01\n",
      "  3.05008143e-01  2.73083568e-01  1.47382438e-01  4.09703761e-01\n",
      " -1.72217414e-01  4.77416545e-01  6.34061098e-02 -3.57689053e-01\n",
      " -4.97088693e-02  8.77958164e-02  2.42159635e-01 -1.63924098e-01\n",
      " -1.24990605e-01 -1.28088936e-01 -2.49938458e-01 -9.35744643e-02\n",
      " -1.88616514e-01  4.44739729e-01 -5.14288366e-01 -3.39963108e-01\n",
      " -1.14125706e-01 -5.13552010e-01  4.91478860e-01  7.29870915e-01\n",
      "  2.66427603e-02 -4.11780894e-01  1.73750207e-01  3.44821125e-01\n",
      " -4.20661241e-01  6.07536018e-01 -8.92020017e-02  4.35494184e-01\n",
      " -1.11473866e-01 -4.54535037e-01 -6.15526855e-01 -2.58222520e-01\n",
      "  2.40450114e-01 -2.58782133e-02 -9.74593684e-02  3.13887835e-01\n",
      "  8.84879082e-02  4.48708564e-01 -2.29681656e-02  1.73821568e-01\n",
      "  7.89251775e-02 -2.54345417e-01 -3.70825231e-02 -4.48526889e-01\n",
      " -3.63453835e-01 -1.06710941e-01 -1.21038489e-01  9.33568925e-02\n",
      " -2.69008905e-01  3.72142941e-01 -5.10237932e-01  2.19385654e-01\n",
      "  1.39876828e-01 -1.98405698e-01 -2.31438860e-01 -1.67373911e-01\n",
      " -3.96954753e-02  1.59523010e-01  2.22708657e-02 -3.86299312e-01\n",
      "  2.50779033e-01 -2.45565474e-01  2.18068331e-01  3.34582657e-01]\n"
     ]
    }
   ],
   "source": [
    "print(model.wv['girl'])"
   ]
  },
  {
   "cell_type": "code",
   "execution_count": 16,
   "metadata": {},
   "outputs": [
    {
     "data": {
      "text/plain": [
       "[('gardiner', 0.9817360639572144),\n",
       " ('collins', 0.9726678133010864),\n",
       " ('younge', 0.9678133726119995),\n",
       " ('hurst', 0.9646362066268921),\n",
       " ('bennets', 0.9624624252319336),\n",
       " ('bingley', 0.9445096850395203),\n",
       " ('jenkinson', 0.9425157904624939),\n",
       " ('annesley', 0.9424982666969299),\n",
       " ('reynolds', 0.9392335414886475),\n",
       " ('phillip', 0.935962438583374)]"
      ]
     },
     "execution_count": 16,
     "metadata": {},
     "output_type": "execute_result"
    }
   ],
   "source": [
    "model.wv.most_similar(positive='bennet')"
   ]
  },
  {
   "cell_type": "code",
   "execution_count": 17,
   "metadata": {},
   "outputs": [
    {
     "data": {
      "text/plain": [
       "(1057857, 1572430)"
      ]
     },
     "execution_count": 17,
     "metadata": {},
     "output_type": "execute_result"
    }
   ],
   "source": [
    "with open(\"../data/emma.txt\") as file:\n",
    "    text = []\n",
    "    line = file.readline()\n",
    "    while line:\n",
    "        text.append(gensim.utils.simple_preprocess(line))\n",
    "        line = file.readline()\n",
    "        \n",
    "model.train(text, total_examples=len(text), epochs=10)"
   ]
  },
  {
   "cell_type": "code",
   "execution_count": 18,
   "metadata": {},
   "outputs": [
    {
     "name": "stdout",
     "output_type": "stream",
     "text": [
      "[-0.13685618  0.01139258 -0.46884438  0.05915089 -0.01971038  0.21108119\n",
      " -0.53788143  0.04711214 -0.5832062   0.28568882  0.28108066  0.05963668\n",
      "  0.00916563 -0.12230553 -0.3604536  -0.32761675 -0.19079745  0.09000473\n",
      "  0.0976999  -0.0760273   0.7281742   0.5374741  -0.03664005  0.31190056\n",
      "  0.05828649 -0.03688943  0.4311841   0.6043336   0.10927719  0.24229874\n",
      "  0.45404127 -0.10664518  0.43919465  0.3332319   0.37386674  0.6035291\n",
      "  0.10613737  0.3667258   0.04096133 -0.79742205  0.09519754  0.22637619\n",
      "  0.02993777  0.07554696  0.01391461  0.15670206 -0.32296732 -0.13734186\n",
      " -0.21698733  0.36193097 -0.62435335 -0.4995715   0.04888161 -0.3446874\n",
      "  0.67640966  0.85841155 -0.06105558 -0.323291    0.08535083  0.4918606\n",
      " -0.78808224  0.7048196  -0.24911636  0.6056115  -0.09861627 -0.31502208\n",
      " -0.53849435 -0.3818837  -0.13657282  0.04343245 -0.40478912  0.7574399\n",
      " -0.03300402  0.6360267  -0.15812163  0.03245472 -0.3789431  -0.4905182\n",
      " -0.03335707 -0.81052834 -0.05247284 -0.5242045  -0.1891319   0.10822723\n",
      " -0.3128079   0.3765967  -0.50164866  0.2520582   0.14818661 -0.35559285\n",
      " -0.10890707 -0.22649261 -0.01639793  0.18520151 -0.06115965 -0.38235626\n",
      " -0.11132994 -0.11495019  0.43773708  0.17398757]\n"
     ]
    }
   ],
   "source": [
    "print(model.wv['girl'])"
   ]
  },
  {
   "cell_type": "code",
   "execution_count": 19,
   "metadata": {},
   "outputs": [
    {
     "data": {
      "text/plain": [
       "[('offend', 0.8241996765136719),\n",
       " ('thoughtless', 0.8179677724838257),\n",
       " ('certain', 0.8159031271934509),\n",
       " ('undoubtedly', 0.8115947842597961),\n",
       " ('proud', 0.8108220100402832),\n",
       " ('god', 0.8088730573654175),\n",
       " ('creature', 0.8012233972549438),\n",
       " ('dancing', 0.8006531596183777),\n",
       " ('ill', 0.7964274883270264),\n",
       " ('easy', 0.795829176902771)]"
      ]
     },
     "execution_count": 19,
     "metadata": {},
     "output_type": "execute_result"
    }
   ],
   "source": [
    "model.wv.most_similar(positive='girl')"
   ]
  },
  {
   "cell_type": "code",
   "execution_count": 21,
   "metadata": {},
   "outputs": [
    {
     "data": {
      "text/plain": [
       "0.6225797750749156"
      ]
     },
     "execution_count": 21,
     "metadata": {},
     "output_type": "execute_result"
    }
   ],
   "source": [
    "model.wv.similarity(w1='girl', w2='boy')"
   ]
  }
 ],
 "metadata": {
  "kernelspec": {
   "display_name": "Python 3",
   "language": "python",
   "name": "python3"
  },
  "language_info": {
   "codemirror_mode": {
    "name": "ipython",
    "version": 3
   },
   "file_extension": ".py",
   "mimetype": "text/x-python",
   "name": "python",
   "nbconvert_exporter": "python",
   "pygments_lexer": "ipython3",
   "version": "3.6.3"
  }
 },
 "nbformat": 4,
 "nbformat_minor": 2
}
