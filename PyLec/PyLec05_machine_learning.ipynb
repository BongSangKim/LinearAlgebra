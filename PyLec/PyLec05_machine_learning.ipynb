{
 "cells": [
  {
   "cell_type": "markdown",
   "metadata": {},
   "source": [
    "# 기계학습(machine learning)의 기본개념\n",
    "\n",
    "## 데이터의 종류\n",
    "\n",
    "기계학습은 데이터를 예측하는 모델의 정확한 변수값을 모르는 상태에서 이미 주어진 데이터를 통해 최적의 변수를 찾아내는 과정입니다.\n",
    "\n",
    "이를 위해 훈련 데이터(training data)와 시험 데이터(test data)가 필요합니다.\n",
    "\n",
    "> 훈련 데이터는 기본적으로 변수값을 최적화시키기 위해 사용되는 데이터 입니다.\n",
    ">\n",
    "> 훈련 데이터가 부정확하다면, 결과도 부정확합니다. (**Garbage in, garbage out**)\n",
    ">\n",
    "> 따라서 기계학습을 성공적으로 수행하기 위한 첫번째 단계는 좋은 훈련 데이터를 준비하는 것입니다.\n",
    "\n",
    "훈련 데이터를 이용하여 변수값을 찾았다면 이것이 정확한지 테스트 하기 위해 사용하는 데이터가 시험 데이터입니다.\n",
    "\n",
    "일반적으로 시험 데이터는 훈련 데이터의 크기보다 작습니다.\n",
    "\n",
    "보통 데이터는 훈련용과 시험용이 구분되어 있지 않으므로 무작위로 데이터를 구분하여 사용합니다.\n",
    "\n",
    "이를 미니배치(mini-batch)라 합니다.\n",
    "\n",
    "> 만약 시험 데이터가 지나치게 적거나 편향되어 있다면 어떤 문제가 생길 수 있나요?\n",
    ">\n",
    "> 모델이 훈련 데이터에 지나치게 최적화 된 상태를 오버피팅(overfitting)이라고 합니다.\n",
    ">\n",
    "> 오버피팅은 잘못된 모델링으로 인해 일어날 수도 있지만, 잘못된 데이터로 인해 일어날 수도 있습니다.\n",
    ">\n",
    "> 예를 들어 사진을 '개' 또는 '고양이'를 분류하는 모델을 학습시킨다고 합시다.\n",
    ">\n",
    "> '개'의 사진만을 가지고 학습 시킨 모델은 '개'는 정확히 맞출 수 있으나 '고양이'는 정확히 맞출 수가 없습니다.\n",
    ">\n",
    "> (오히려 '고양이'를 '개'라고 잘못 분류하는 경우가 더 많을 것입니다."
   ]
  },
  {
   "cell_type": "markdown",
   "metadata": {},
   "source": [
    "## 손실 함수(loss function)\n",
    "\n",
    "모델링을 최적화시키기 위해서는 정확도가 향상되는 방향으로 조금씩 변수값을 조정해야 합니다.\n",
    "\n",
    "다시 말하면 정확도가 떨어짐으로서 발생하는 손실(loss)이 최소화되어야 합니다.\n",
    "\n",
    "손실 함수란 기계 학습의 정확도를 가리키는 지표입니다.\n",
    "\n",
    "### 1. 평균 제곱 오차(mean squre error)\n",
    "\n",
    "평균제곱오차는 가장 많이 쓰이는 손실함수의 하나입니다.\n",
    "\n",
    "모델 예측값 $y_k$라 하고 실제값을 $t_k$라 하면 평균 제곱 오차 $E$는 다음과 같습니다.\n",
    "\n",
    "$$E = \\frac{1}{2}\\sum_{k=1}^N(y_k-t_k)^2$$\n",
    "\n",
    "여기서 $N$은 데이터의 크기입니다. \n",
    "\n",
    "편차의 제곱을 하는 이유는 참값($t_k$)보다 실제값($y_k$)이 작거나 큰 경우를 동일하게 보기 위함입니다."
   ]
  },
  {
   "cell_type": "code",
   "execution_count": 1,
   "metadata": {},
   "outputs": [],
   "source": [
    "def msq(y,t):\n",
    "    return .5 * np.sum((y-t) ** 2)"
   ]
  },
  {
   "cell_type": "markdown",
   "metadata": {},
   "source": [
    "### 2. 교차 엔트로피 오차\n",
    "\n",
    "교차 엔트로피 오차는(cross-entropy error)는 평균 제곱 오차와는 약간 성격이 다릅니다. 모델 예측값을 $y_k$ 참값을 $t_k$라 합시다. 교차 엔트로피 오차는 다음과 같이 정의됩니다.\n",
    "\n",
    "$$E = -\\sum_k t_k\\log y_k$$\n",
    "\n",
    "만약 예측하고자 하는 값이 참(1) 또는 거짓(0)이라면 모든 $t_k$는 $0$ 또는 $1$로 기록되어 있습니다. 그러나 예측값 $y_k$는 $0$에서 $1$사이의 실수값으로 기록될 것입니다. 먄약 $t_k$가 $0$이라면 $t_k\\log y_k$는 항상 $0$입니다. 만약 $t_k$가 $1$이라면 $t_k\\log y_k$는 $y_k$이 클수록 더 작은 음의 실수를 가리킵니다. 오차값 $E$에 음의 부호가 붙어있으므로, $E$는 항상 양수입니다. 또한 $t_k$가 $1$인 $y_k$가 $1$에 가까울수록 $E$가 작아짐을 알 수 있습니다. 다시 말해, 참값이 $1$인 데이터를 잘 예측할 수록 $E$가 작아집니다.\n",
    "\n",
    "실제로, 예측값 $y_k$가 $0$이 되면 $\\log$값이 마이너스 무한대를 반환하므로 계산에 오류가 발생합니다. 따라서 실제 구현에서는 $y_k$ 값에 아주 작은 $\\delta$를 더하여 $0$이 되지 않게 합니다."
   ]
  },
  {
   "cell_type": "code",
   "execution_count": 2,
   "metadata": {},
   "outputs": [],
   "source": [
    "def cross_entropy(y, t):\n",
    "    delta = 1e-7\n",
    "    return -np.sum(t * np.log(y + delta))"
   ]
  },
  {
   "cell_type": "markdown",
   "metadata": {},
   "source": [
    "위의 교차 엔트로피에 사용된 레이블 $y_k$, $t_k$는 하나의 데이터에 대한 출력 뉴런의 값과 정답값입니다. 예를 들어 MNIST 데이터셋의 경우, 하나의 데이터마다 10개의 레이블(0,1,2,...,9)이 있습니다. 기계학습을 위해서는 아주 많은 수의 데이터를 학습시켜야 하고, 이것에 대한 교차 엔트로피를 구해야 합니다. 즉, $N$개의 데이터가 있다고 하면 각 $n$번째 데이터마다 교차엔트로피를 구해서 평균을 구합니다.\n",
    "$$E = -\\frac{1}{N}\\sum_n\\sum_k t_{nk}\\log y_{nk}$$\n",
    "그런데 이렇게 하면 계산에 많은 시간이 소요됩니다. MNIST 데이터만 해도 6만개의 데이터가 있습니다. 따라서 모든 데이터를 사용하지 않고, 랜덤으로 몇개의 샘플만 추출해서 계산하는 것이 효율적입니다. 이를 **미니배치(mini-batch)**라 합니다. `np.random.choice`함수를 이용하면 무작위로 원하는 갯수의 샘플을 추출할 수 있습니다."
   ]
  },
  {
   "cell_type": "code",
   "execution_count": 105,
   "metadata": {},
   "outputs": [],
   "source": [
    "def cross_entropy_minibatch(y, t):\n",
    "    if y.ndim == 1:\n",
    "        t = t.reshape(1, t.size)\n",
    "        y = y.reshape(1, y.size)\n",
    "    \n",
    "    batch_size = y.shape[0]\n",
    "    return -np.sum(t * np.log(y + 1e-7)) / batch_size"
   ]
  },
  {
   "cell_type": "markdown",
   "metadata": {},
   "source": [
    "## 기울기벡터(gradient)\n",
    "\n",
    "위와 같은 손실함수의 값을 줄이기 위해서는 현재 가중치와 편향을 손실함수가 작아지는 쪽으로 변화시켜야가야 합니다. 이를 위해 각 기울기벡터(gradient)를 구해야 합니다. 함수 $f(x,y)$에 대한 기울기 벡터는 다음과 같습니다.\n",
    "$$\\nabla f(x_0,y_0) = (f_x(x_0,y_0),f_y(x_0,y_0))$$\n",
    "이를 함수로 구현하면 아래와 같습니다. 실제로 편미분을 구현하기는 복잡하므로, 여기서는 수치적 편미분을 이용합니다."
   ]
  },
  {
   "cell_type": "code",
   "execution_count": 96,
   "metadata": {},
   "outputs": [],
   "source": [
    "def numerical_gradient_1d(f, x):\n",
    "    h = 1e-4\n",
    "    grad = np.zeros_like(x)\n",
    "    for idx in range(x.size):\n",
    "        tmp_val = x[idx]\n",
    "        x[idx] = tmp_val + h\n",
    "        fxh1 = f(x)\n",
    "        \n",
    "        x[idx] = tmp_val - h\n",
    "        fxh2 = f(x)\n",
    "        \n",
    "        grad[idx] = (fxh1 - fxh2) / (2 * h)\n",
    "        x[idx] = tmp_val\n",
    "    return grad"
   ]
  },
  {
   "cell_type": "code",
   "execution_count": 93,
   "metadata": {},
   "outputs": [],
   "source": [
    "def numerical_gradient_2d(f, x):\n",
    "    h = 1e-4\n",
    "    grad = np.zeros_like(x)\n",
    "    for row in range(x.shape[0]):\n",
    "        for col in range(x.shape[1]):\n",
    "            tmp_val = x[row, col]\n",
    "            x[row, col] = tmp_val + h\n",
    "            fxh1 = f(x)\n",
    "        \n",
    "            x[row, col] = tmp_val - h\n",
    "            fxh2 = f(x)\n",
    "        \n",
    "            grad[row, col] = (fxh1 - fxh2) / (2 * h)\n",
    "            x[row, col] = tmp_val\n",
    "    return grad"
   ]
  },
  {
   "cell_type": "markdown",
   "metadata": {},
   "source": [
    "### 경사하강법(Gradient descent)\n",
    "경사하강법이란 특점 점에서 기울기벡터 방향으로 조금씩 이동하면서 함수의 극소값을 도달하는 방법입니다. 다시말해 $x^{(0)} = (x_0^{(0)},x_1^{(0)})$에서 시작하였을 때, 음의 기울기 벡터 $-\\nabla f(x_0,x_1)$의 방향으로 $\\nu$만큼 이동하여 극소값에 근접한 새로운 점 $x^{(1)} = (x_0^{(1)}, x_1^{(1)}$을 찾는 방법입니다. 이를 수식으로 표현하면 아래와 같습니다.\n",
    "$$x_0^{(1)} = x_0^{(0)} - \\nu\\frac{\\partial f}{\\partial x_0}$$\n",
    "$$x_1^{(1)} = x_1^{(0)} - \\nu\\frac{\\partial f}{\\partial x_1}$$"
   ]
  },
  {
   "cell_type": "markdown",
   "metadata": {},
   "source": [
    "## 간단한 신경망 모델\n",
    "경사하강법을 이용하여 기계 학습이 구현된 간단한 신경망 모델을 만들어 보겠습니다. 여기서는 **클래스(class)**라는 구조를 사용합니다. 클래스란 딕셔너리 자료형과 비슷하게 변수가 구현될 뿐만 아니라 메서드 함수도 구현되는 자료구조를 말합니다."
   ]
  },
  {
   "cell_type": "code",
   "execution_count": 25,
   "metadata": {},
   "outputs": [],
   "source": [
    "import sys, os\n",
    "import numpy as np\n",
    "\n",
    "def softmax(x):\n",
    "    m = np.max(x)\n",
    "    ex = np.exp(x - m)\n",
    "    return ex / np.sum(ex)\n",
    "\n",
    "class simpleNet:\n",
    "    def __init__(self):\n",
    "        self.W = np.random.randn(2,3)\n",
    "    def predict(self, x):\n",
    "        return np.dot(x, self.W)\n",
    "    def loss(self, x, t):\n",
    "        z = self.predict(x)\n",
    "        y = softmax(z)\n",
    "        loss = cross_entropy_minibatch(y, t)\n",
    "        return loss"
   ]
  },
  {
   "cell_type": "markdown",
   "metadata": {},
   "source": [
    "이 `simpleNet`이라는 클래스는 앞서 정의한 `network`를 클래스로 구현한 것입니다. `__init__`은 클래스객체를 초기화하는 함수로서 모든 클래스가 기본으로 구현되어야 합니다. 여기서는 랜덤한 2행 3열의 행렬로 초기화를 시킵니다. 예를 들어 `net`으로 클래스를 생성해 봅시다."
   ]
  },
  {
   "cell_type": "code",
   "execution_count": 73,
   "metadata": {},
   "outputs": [
    {
     "name": "stdout",
     "output_type": "stream",
     "text": [
      "[[ 1.11724359 -0.69089631  0.43287905]\n",
      " [-0.14126068  0.78843414 -0.50883815]]\n"
     ]
    }
   ],
   "source": [
    "net = simpleNet()\n",
    "print(net.W)"
   ]
  },
  {
   "cell_type": "markdown",
   "metadata": {},
   "source": [
    "이제 입력 뉴런 값을 임의로 집어넣고 순전파(forward propagation)를 진행해 봅시다. "
   ]
  },
  {
   "cell_type": "code",
   "execution_count": 74,
   "metadata": {},
   "outputs": [
    {
     "name": "stdout",
     "output_type": "stream",
     "text": [
      "[ 0.54321154  0.29505294 -0.1982269 ]\n"
     ]
    }
   ],
   "source": [
    "x = np.array([.6, .9])\n",
    "p = net.predict(x)\n",
    "print(p)"
   ]
  },
  {
   "cell_type": "markdown",
   "metadata": {},
   "source": [
    "위의 실제값에 대한 참값 레이블이 $[0, 1, 0]$ 이었다고 합니다. (즉, 2번째 뉴런이 가장 크게 활성화가 되어야 정확한 결과입니다.)"
   ]
  },
  {
   "cell_type": "code",
   "execution_count": 75,
   "metadata": {},
   "outputs": [
    {
     "data": {
      "text/plain": [
       "0.35401535236446646"
      ]
     },
     "execution_count": 75,
     "metadata": {},
     "output_type": "execute_result"
    }
   ],
   "source": [
    "t = np.array([0, 1, 0])\n",
    "net.loss(x, t)"
   ]
  },
  {
   "cell_type": "markdown",
   "metadata": {},
   "source": [
    "이 손실함수의 값을 더 줄이기 위해 경사하강법을 손실함수 $f$에 적용해 봅시다."
   ]
  },
  {
   "cell_type": "code",
   "execution_count": 79,
   "metadata": {},
   "outputs": [
    {
     "name": "stdout",
     "output_type": "stream",
     "text": [
      "[[ 0.08862636 -0.13085045  0.04222409]\n",
      " [ 0.13293954 -0.19627567  0.06333613]]\n"
     ]
    }
   ],
   "source": [
    "def f(W):\n",
    "    return net.loss(x, t)\n",
    "\n",
    "dW = numerical_gradient(f, net.W)\n",
    "print(dW)"
   ]
  },
  {
   "cell_type": "markdown",
   "metadata": {},
   "source": [
    "이 기울기벡터 방향으로 가중치를 조금 바꾼 뒤 다시 손실함수를 계산해 봅시다. 위에서 계산한 값보다 조금 줄어드는 것을 확인할 수 있습니다."
   ]
  },
  {
   "cell_type": "code",
   "execution_count": 82,
   "metadata": {},
   "outputs": [
    {
     "data": {
      "text/plain": [
       "0.3521917591376414"
      ]
     },
     "execution_count": 82,
     "metadata": {},
     "output_type": "execute_result"
    }
   ],
   "source": [
    "nu = 1e-2\n",
    "net.W -= nu * dW\n",
    "net.loss(x, t)"
   ]
  },
  {
   "cell_type": "markdown",
   "metadata": {},
   "source": [
    "### 2층 신경망 클래스 구현\n",
    "기계학습은 위 과정을 반복하는 것입니다.\n",
    "1. 레이어의 수, 각 레이어마다 뉴런의 갯수, 가중치와 편향을 고려한 신경망 모델 제작\n",
    "2. 미니배치, 손실함수 설정\n",
    "3. 기울기벡터 구하기\n",
    "4. 매개변수(가중치, 편향 값) 갱신\n",
    "5. 1-4 반복\n",
    "\n",
    "위 방법을 적용하여 2층 신경망 클래스를 구현하고 MNIST 데이터셋으로 검증해 봅시다."
   ]
  },
  {
   "cell_type": "code",
   "execution_count": 120,
   "metadata": {},
   "outputs": [],
   "source": [
    "def cross_entropy_error(y, t):\n",
    "    if y.ndim == 1:\n",
    "        t = t.reshape(1, t.size)\n",
    "        y = y.reshape(1, y.size)\n",
    "        \n",
    "    # 훈련 데이터가 원-핫 벡터라면 정답 레이블의 인덱스로 반환\n",
    "    if t.size == y.size:\n",
    "        t = t.argmax(axis=1)\n",
    "             \n",
    "    batch_size = y.shape[0]\n",
    "    return -np.sum(np.log(y[np.arange(batch_size), t] + 1e-7)) / batch_size\n",
    "\n",
    "def softmax(x):\n",
    "    m = np.max(x)\n",
    "    ex = np.exp(x - m)\n",
    "    return ex / np.sum(ex)\n",
    "\n",
    "def sigmoid(x):\n",
    "    return 1 / (1 + np.exp(-x))\n",
    "\n",
    "def sigmoid_grad(x):\n",
    "    return (1.0 - sigmoid(x)) * sigmoid(x)    "
   ]
  },
  {
   "cell_type": "code",
   "execution_count": 121,
   "metadata": {},
   "outputs": [],
   "source": [
    "import sys, os\n",
    "import numpy as np\n",
    "\n",
    "def _numerical_gradient_1d(f, x):\n",
    "    h = 1e-4 # 0.0001\n",
    "    grad = np.zeros_like(x)\n",
    "    \n",
    "    for idx in range(x.size):\n",
    "        tmp_val = x[idx]\n",
    "        x[idx] = float(tmp_val) + h\n",
    "        fxh1 = f(x) # f(x+h)\n",
    "        \n",
    "        x[idx] = tmp_val - h \n",
    "        fxh2 = f(x) # f(x-h)\n",
    "        grad[idx] = (fxh1 - fxh2) / (2*h)\n",
    "        \n",
    "        x[idx] = tmp_val # 값 복원\n",
    "        \n",
    "    return grad\n",
    "\n",
    "\n",
    "def numerical_gradient_2d(f, X):\n",
    "    if X.ndim == 1:\n",
    "        return _numerical_gradient_1d(f, X)\n",
    "    else:\n",
    "        grad = np.zeros_like(X)\n",
    "        \n",
    "        for idx, x in enumerate(X):\n",
    "            grad[idx] = _numerical_gradient_1d(f, x)\n",
    "        \n",
    "    return grad\n",
    "\n",
    "def numerical_gradient(f, x):\n",
    "    h = 1e-4 # 0.0001\n",
    "    grad = np.zeros_like(x)\n",
    "    \n",
    "    it = np.nditer(x, flags=['multi_index'], op_flags=['readwrite'])\n",
    "    while not it.finished:\n",
    "        idx = it.multi_index\n",
    "        tmp_val = x[idx]\n",
    "        x[idx] = float(tmp_val) + h\n",
    "        fxh1 = f(x) # f(x+h)\n",
    "        \n",
    "        x[idx] = tmp_val - h \n",
    "        fxh2 = f(x) # f(x-h)\n",
    "        grad[idx] = (fxh1 - fxh2) / (2*h)\n",
    "        \n",
    "        x[idx] = tmp_val # 값 복원\n",
    "        it.iternext()   \n",
    "        \n",
    "    return grad"
   ]
  },
  {
   "cell_type": "code",
   "execution_count": 122,
   "metadata": {},
   "outputs": [],
   "source": [
    "class TwoLayerNet:\n",
    "\n",
    "    def __init__(self, input_size, hidden_size, output_size, weight_init_std=0.01):\n",
    "        # 가중치 초기화\n",
    "        self.params = {}\n",
    "        self.params['W1'] = weight_init_std * np.random.randn(input_size, hidden_size)\n",
    "        self.params['b1'] = np.zeros(hidden_size)\n",
    "        self.params['W2'] = weight_init_std * np.random.randn(hidden_size, output_size)\n",
    "        self.params['b2'] = np.zeros(output_size)\n",
    "\n",
    "    def predict(self, x):\n",
    "        W1, W2 = self.params['W1'], self.params['W2']\n",
    "        b1, b2 = self.params['b1'], self.params['b2']\n",
    "    \n",
    "        a1 = np.dot(x, W1) + b1\n",
    "        z1 = sigmoid(a1)\n",
    "        a2 = np.dot(z1, W2) + b2\n",
    "        y = softmax(a2)\n",
    "        \n",
    "        return y\n",
    "        \n",
    "    # x : 입력 데이터, t : 정답 레이블\n",
    "    def loss(self, x, t):\n",
    "        y = self.predict(x)\n",
    "        \n",
    "        return cross_entropy_error(y, t)\n",
    "    \n",
    "    def accuracy(self, x, t):\n",
    "        y = self.predict(x)\n",
    "        y = np.argmax(y, axis=1)\n",
    "        t = np.argmax(t, axis=1)\n",
    "        \n",
    "        accuracy = np.sum(y == t) / float(x.shape[0])\n",
    "        return accuracy\n",
    "        \n",
    "    # x : 입력 데이터, t : 정답 레이블\n",
    "    def numerical_gradient(self, x, t):\n",
    "        loss_W = lambda W: self.loss(x, t)\n",
    "        \n",
    "        grads = {}\n",
    "        grads['W1'] = numerical_gradient(loss_W, self.params['W1'])\n",
    "        grads['b1'] = numerical_gradient(loss_W, self.params['b1'])\n",
    "        grads['W2'] = numerical_gradient(loss_W, self.params['W2'])\n",
    "        grads['b2'] = numerical_gradient(loss_W, self.params['b2'])\n",
    "        \n",
    "        return grads\n",
    "        \n",
    "    def gradient(self, x, t):\n",
    "        W1, W2 = self.params['W1'], self.params['W2']\n",
    "        b1, b2 = self.params['b1'], self.params['b2']\n",
    "        grads = {}\n",
    "        \n",
    "        batch_num = x.shape[0]\n",
    "        \n",
    "        # forward\n",
    "        a1 = np.dot(x, W1) + b1\n",
    "        z1 = sigmoid(a1)\n",
    "        a2 = np.dot(z1, W2) + b2\n",
    "        y = softmax(a2)\n",
    "        \n",
    "        # backward\n",
    "        dy = (y - t) / batch_num\n",
    "        grads['W2'] = np.dot(z1.T, dy)\n",
    "        grads['b2'] = np.sum(dy, axis=0)\n",
    "        \n",
    "        da1 = np.dot(dy, W2.T)\n",
    "        dz1 = sigmoid_grad(a1) * da1\n",
    "        grads['W1'] = np.dot(x.T, dz1)\n",
    "        grads['b1'] = np.sum(dz1, axis=0)\n",
    "\n",
    "        return grads"
   ]
  },
  {
   "cell_type": "code",
   "execution_count": null,
   "metadata": {
    "scrolled": true
   },
   "outputs": [
    {
     "name": "stdout",
     "output_type": "stream",
     "text": [
      "train acc, test acc | 0.10293333333333334, 0.0979\n"
     ]
    }
   ],
   "source": [
    "# coding: utf-8\n",
    "import sys, os\n",
    "import numpy as np\n",
    "import matplotlib.pyplot as plt\n",
    "from dataset.mnist import load_mnist\n",
    "\n",
    "# 데이터 읽기\n",
    "(x_train, t_train), (x_test, t_test) = load_mnist(normalize=True, one_hot_label=True)\n",
    "\n",
    "network = TwoLayerNet(input_size=784, hidden_size=50, output_size=10)\n",
    "\n",
    "# 하이퍼파라미터\n",
    "iters_num = 10000  # 반복 횟수를 적절히 설정한다.\n",
    "train_size = x_train.shape[0]\n",
    "batch_size = 100   # 미니배치 크기\n",
    "learning_rate = 0.1\n",
    "\n",
    "train_loss_list = []\n",
    "train_acc_list = []\n",
    "test_acc_list = []\n",
    "\n",
    "# 1에폭당 반복 수\n",
    "iter_per_epoch = max(train_size / batch_size, 1)\n",
    "\n",
    "for i in range(iters_num):\n",
    "    # 미니배치 획득\n",
    "    batch_mask = np.random.choice(train_size, batch_size)\n",
    "    x_batch = x_train[batch_mask]\n",
    "    t_batch = t_train[batch_mask]\n",
    "    \n",
    "    # 기울기 계산\n",
    "    grad = network.numerical_gradient(x_batch, t_batch)\n",
    "    # grad = network.gradient(x_batch, t_batch)\n",
    "    \n",
    "    # 매개변수 갱신\n",
    "    for key in ('W1', 'b1', 'W2', 'b2'):\n",
    "        network.params[key] -= learning_rate * grad[key]\n",
    "    \n",
    "    # 학습 경과 기록\n",
    "    loss = network.loss(x_batch, t_batch)\n",
    "    train_loss_list.append(loss)\n",
    "    \n",
    "    # 1에폭당 정확도 계산\n",
    "    if i % iter_per_epoch == 0:\n",
    "        train_acc = network.accuracy(x_train, t_train)\n",
    "        test_acc = network.accuracy(x_test, t_test)\n",
    "        train_acc_list.append(train_acc)\n",
    "        test_acc_list.append(test_acc)\n",
    "        print(\"train acc, test acc | \" + str(train_acc) + \", \" + str(test_acc))\n",
    "\n",
    "# 그래프 그리기\n",
    "markers = {'train': 'o', 'test': 's'}\n",
    "x = np.arange(len(train_acc_list))\n",
    "plt.plot(x, train_acc_list, label='train acc')\n",
    "plt.plot(x, test_acc_list, label='test acc', linestyle='--')\n",
    "plt.xlabel(\"epochs\")\n",
    "plt.ylabel(\"accuracy\")\n",
    "plt.ylim(0, 1.0)\n",
    "plt.legend(loc='lower right')\n",
    "plt.show()\n"
   ]
  },
  {
   "cell_type": "code",
   "execution_count": 110,
   "metadata": {},
   "outputs": [
    {
     "data": {
      "image/png": "[encoded data removed]",
      "text/plain": [
       "<Figure size 432x288 with 1 Axes>"
      ]
     },
     "metadata": {
      "needs_background": "light"
     },
     "output_type": "display_data"
    }
   ],
   "source": [
    "import matplotlib.pyplot as plt\n",
    "x = np.arange(len(train_loss_list))\n",
    "y = train_loss_list\n",
    "plt.plot(x,y)\n",
    "plt.show()"
   ]
  },
  {
   "cell_type": "code",
   "execution_count": null,
   "metadata": {},
   "outputs": [],
   "source": []
  }
 ],
 "metadata": {
  "kernelspec": {
   "display_name": "Python 3",
   "language": "python",
   "name": "python3"
  },
  "language_info": {
   "codemirror_mode": {
    "name": "ipython",
    "version": 3
   },
   "file_extension": ".py",
   "mimetype": "text/x-python",
   "name": "python",
   "nbconvert_exporter": "python",
   "pygments_lexer": "ipython3",
   "version": "3.7.1"
  }
 },
 "nbformat": 4,
 "nbformat_minor": 2
}
